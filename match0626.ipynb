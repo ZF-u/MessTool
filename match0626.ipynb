{
 "cells": [
  {
   "cell_type": "code",
   "execution_count": 1,
   "id": "d4374d4b",
   "metadata": {},
   "outputs": [],
   "source": [
    "import pandas as pd\n",
    "import re\n",
    "\n",
    "# 读取Excel文件\n",
    "df = pd.read_excel('path', sheet_name=None)\n",
    "\n",
    "# 获取所有工作表的名称\n",
    "sheet_names = df.keys()\n",
    "\n",
    "# 分别保存sheet1和sheet2\n",
    "df1 = df['灰名单（华为）']\n",
    "df2 = df['拓扑']\n",
    "\n",
    "df1 = df1.astype(str)\n",
    "df2 = df2.astype(str)\n",
    "\n",
    "name_map_1 = dict(zip(df1['序列号'], df1['设备A'] + ' ' + df1['c2'] + ' ' + df1['c4'] + ' ' + df1['设备Z'] + ' ' + df1['c6'] + ' ' + df1['c8']))\n",
    "name_map_1_i = dict(zip(df1['序列号'], df1['设备Z'] + ' ' + df1['c6'] + ' ' + df1['c8'] + ' ' + df1['设备A'] + ' ' + df1['c2'] + ' ' + df1['c4']))\n",
    "name_map_2 = dict(zip(df2['系统名称'], df2['A端网元'] + ' ' + df2['槽位A'] + ' ' + df2['端口A'] + ' ' + df2['Z端网元'] + ' ' + df2['槽位Z'] + ' ' + df2['端口Z']))\n",
    "\n",
    "matching_keys_1 = [(key1, key2) for key1, value1 in name_map_1.items() for key2, value2 in name_map_2.items() if value1 == value2]\n",
    "matching_keys_2 = [(key1, key2) for key1, value1 in name_map_1_i.items() for key2, value2 in name_map_2.items() if value1 == value2]\n",
    "\n",
    "matching_keys = matching_keys_1 + matching_keys_2\n",
    "\n",
    "df = pd.DataFrame(matching_keys, columns=['Key1', 'Key2'])\n",
    "\n",
    "# 导出为 XLSX 文件\n",
    "df.to_excel('opath', index=False)"
   ]
  },
  {
   "cell_type": "code",
   "execution_count": 69,
   "id": "c9a272a1",
   "metadata": {},
   "outputs": [
    {
     "name": "stdout",
     "output_type": "stream",
     "text": [
      "{'John': '25 New York', 'Emma': '28 London', 'Peter': '21 Paris', 'Liam': '24 Sydney'}\n"
     ]
    }
   ],
   "source": [
    "# 创建示例 DataFrame\n",
    "data = {'Name': ['John', 'Emma', 'Peter', 'Liam'],\n",
    "        'Age': [25, 28, 21, 24],\n",
    "        'City': ['New York', 'London', 'Paris', 'Sydney']}\n",
    "df = pd.DataFrame(data)\n",
    "\n",
    "# 将 DataFrame 转换为映射\n",
    "name_map = dict(zip(df['Name'], df['Age'].astype(str) + ' ' + df['City']))\n",
    "\n",
    "# 打印映射\n",
    "print(name_map)"
   ]
  },
  {
   "cell_type": "code",
   "execution_count": null,
   "id": "46586236",
   "metadata": {},
   "outputs": [],
   "source": []
  }
 ],
 "metadata": {
  "kernelspec": {
   "display_name": "Python 3 (ipykernel)",
   "language": "python",
   "name": "python3"
  },
  "language_info": {
   "codemirror_mode": {
    "name": "ipython",
    "version": 3
   },
   "file_extension": ".py",
   "mimetype": "text/x-python",
   "name": "python",
   "nbconvert_exporter": "python",
   "pygments_lexer": "ipython3",
   "version": "3.8.12"
  }
 },
 "nbformat": 4,
 "nbformat_minor": 5
}
