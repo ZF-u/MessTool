{
 "cells": [
  {
   "cell_type": "code",
   "execution_count": 3,
   "id": "c8278854",
   "metadata": {},
   "outputs": [],
   "source": [
    "import pandas as pd\n",
    "\n",
    "file_path = 'path'\n",
    "\n",
    "df = pd.read_excel(file_path, usecols=[0])\n",
    "column_data = df.values.tolist()\n"
   ]
  },
  {
   "cell_type": "code",
   "execution_count": 5,
   "id": "021fdfe6",
   "metadata": {},
   "outputs": [],
   "source": [
    "import re\n",
    "\n",
    "pattern1 = r\"(\\d+\\.\\d+|\\d+)(?=皮长公里)\"\n",
    "pattern2 = r\"(\\d+\\.\\d+|\\d+)(?=公里)\"\n",
    "\n",
    "new_column = []\n",
    "\n",
    "for item in column_data:\n",
    "    item_str = str(item)  # 将项转换为字符串类型\n",
    "    match1 = re.search(pattern1, item_str)\n",
    "    match2 = re.search(pattern2, item_str)\n",
    "    \n",
    "    if match1:\n",
    "        number = match1.group()\n",
    "    elif match2:\n",
    "        number = match2.group()\n",
    "    else:\n",
    "        number = None\n",
    "    \n",
    "    new_column.append(number)\n",
    "\n",
    "# 将新的一列与column_data合并\n",
    "combined_data = list(zip(column_data, new_column))"
   ]
  },
  {
   "cell_type": "code",
   "execution_count": 8,
   "id": "faefc969",
   "metadata": {},
   "outputs": [],
   "source": [
    "# 创建 DataFrame\n",
    "df = pd.DataFrame({\"Original Data\": column_data, \"Extracted Number\": new_column})\n",
    "\n",
    "# 保存为 Excel 文件\n",
    "df.to_excel(\"/Users/originfu/Desktop/output.xlsx\", index=False)"
   ]
  },
  {
   "cell_type": "code",
   "execution_count": null,
   "id": "598f3674",
   "metadata": {},
   "outputs": [],
   "source": []
  }
 ],
 "metadata": {
  "kernelspec": {
   "display_name": "Python 3 (ipykernel)",
   "language": "python",
   "name": "python3"
  },
  "language_info": {
   "codemirror_mode": {
    "name": "ipython",
    "version": 3
   },
   "file_extension": ".py",
   "mimetype": "text/x-python",
   "name": "python",
   "nbconvert_exporter": "python",
   "pygments_lexer": "ipython3",
   "version": "3.8.12"
  }
 },
 "nbformat": 4,
 "nbformat_minor": 5
}
